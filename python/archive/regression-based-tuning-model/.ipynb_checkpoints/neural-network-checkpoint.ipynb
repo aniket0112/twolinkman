{
 "cells": [
  {
   "cell_type": "code",
   "execution_count": 1,
   "metadata": {},
   "outputs": [
    {
     "name": "stderr",
     "output_type": "stream",
     "text": [
      "/usr/lib/python2.7/dist-packages/subprocess32.py:472: RuntimeWarning: The _posixsubprocess module is not being used. Child process reliability may suffer if your program uses threads.\n",
      "  \"program uses threads.\", RuntimeWarning)\n"
     ]
    }
   ],
   "source": [
    "from __future__ import print_function\n",
    "import matplotlib.pyplot as plt\n",
    "import numpy as np\n",
    "import os\n",
    "import sys\n",
    "from IPython.display import display, Image\n",
    "import sklearn\n",
    "from sklearn.linear_model import LogisticRegression\n",
    "from six.moves.urllib.request import urlretrieve\n",
    "from six.moves import cPickle as pickle"
   ]
  },
  {
   "cell_type": "code",
   "execution_count": 5,
   "metadata": {},
   "outputs": [
    {
     "name": "stdout",
     "output_type": "stream",
     "text": [
      "4\n"
     ]
    }
   ],
   "source": [
    "with open('rawcorrelation.pickle') as f:\n",
    "    correlation_data = pickle.load(f)\n",
    "    front_correlation_data = []\n",
    "    rear_correlation_data = []\n",
    "    front_correlation_label = []\n",
    "    rear_correlation_label = []\n",
    "    front_correlation_data.append(correlation_data[i][0])\n",
    "    rear_correlation_data.append(correlation_data[i][1])\n",
    "    front_correlation_label.append(correlation_data[i][2])\n",
    "    rear_correlation_label.append(correlation_data[i][3])\n",
    "    del correlation_data\n",
    "with open('rawdata.pickle') as f:\n",
    "    gains = pickle.load(f)\n",
    "print(len(front_correlation_data))"
   ]
  },
  {
   "cell_type": "code",
   "execution_count": null,
   "metadata": {},
   "outputs": [],
   "source": []
  }
 ],
 "metadata": {
  "kernelspec": {
   "display_name": "Python 2",
   "language": "python",
   "name": "python2"
  },
  "language_info": {
   "codemirror_mode": {
    "name": "ipython",
    "version": 2
   },
   "file_extension": ".py",
   "mimetype": "text/x-python",
   "name": "python",
   "nbconvert_exporter": "python",
   "pygments_lexer": "ipython2",
   "version": "2.7.15"
  }
 },
 "nbformat": 4,
 "nbformat_minor": 2
}
