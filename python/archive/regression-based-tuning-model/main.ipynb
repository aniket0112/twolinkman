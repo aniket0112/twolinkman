{
 "cells": [
  {
   "cell_type": "code",
   "execution_count": 1,
   "metadata": {},
   "outputs": [
    {
     "name": "stderr",
     "output_type": "stream",
     "text": [
      "/usr/lib/python2.7/dist-packages/subprocess32.py:472: RuntimeWarning: The _posixsubprocess module is not being used. Child process reliability may suffer if your program uses threads.\n",
      "  \"program uses threads.\", RuntimeWarning)\n"
     ]
    }
   ],
   "source": [
    "import roslaunch, rospy, time, keyboard\n",
    "import rospkg as rp\n",
    "import numpy as np\n",
    "from std_msgs.msg import Float64\n",
    "from std_srvs.srv import Empty\n",
    "from tf2_msgs.msg import TFMessage\n",
    "from tf.transformations import euler_from_quaternion\n",
    "from gazebo_msgs.srv import GetLinkState \n",
    "import matplotlib.pyplot as plt\n",
    "from operator import itemgetter\n",
    "import time,random, string, sys, pickle\n",
    "\n",
    "pi = 3.1415926"
   ]
  },
  {
   "cell_type": "code",
   "execution_count": 2,
   "metadata": {},
   "outputs": [],
   "source": [
    "front_setpoint = 45\n",
    "rear_setpoint = -90\n",
    "\n",
    "f_topic = '/twolinkman/front_joint_effort_controller/command'                                   #topic name for front joint controller\n",
    "r_topic = '/twolinkman/rear_joint_effort_controller/command'                                    #topic name for rear joint controller\n",
    "rcon_launch_path = '/launch/twolinkman_control.launch'\n",
    "rp = rp.RosPack()\n",
    "package_path = rp.get_path('twolinkman')"
   ]
  },
  {
   "cell_type": "code",
   "execution_count": 3,
   "metadata": {},
   "outputs": [],
   "source": [
    "def ref_signal(tau,initialpoint,setpoint,sample_set):\n",
    "    data = []\n",
    "    for t in sample_set:\n",
    "        data.append(initialpoint*np.exp(-t*0.1/tau)+setpoint*(1-np.exp(-t*0.1/tau)))\n",
    "    return data"
   ]
  },
  {
   "cell_type": "code",
   "execution_count": 4,
   "metadata": {},
   "outputs": [],
   "source": [
    "#YAML file to update gains\n",
    "yaml_file = '/home/crm/catkin_ws/src/twolinkman/twolinkman_description/config/twolinkman_control.yaml'\n",
    "gain_pos = [228, 241, 254,                   #REAR P, I, D\n",
    "         383, 396, 409]                   #FRONT P, I, D\n",
    "def gain2str(gain):\n",
    "    gain = round(gain,3)\n",
    "    if gain > 9999:\n",
    "        return -1\n",
    "    else:\n",
    "        text = str(gain)\n",
    "        return text.zfill(8)\n",
    "\n",
    "def insert_gain(gain,string,pos):\n",
    "    string = list(string)\n",
    "    gain_string = gain2str(gain)\n",
    "    if gain_string == -1:\n",
    "        return -1\n",
    "    else:\n",
    "        string[pos:pos+8] = gain_string\n",
    "        return ''.join(string)\n",
    "\n",
    "#To update gains in YAML file\n",
    "def updateYAML(gain):\n",
    "    for i in range(6):\n",
    "        f = open(yaml_file,\"r\")\n",
    "        text = f.read()\n",
    "        f.close()\n",
    "        string = insert_gain(gain[i],text,gain_pos[i])\n",
    "        if string == -1:\n",
    "            return -1\n",
    "        else:\n",
    "            f = open(yaml_file,\"w\")\n",
    "            f.write(string)\n",
    "            f.close()\n",
    "    return 0"
   ]
  },
  {
   "cell_type": "code",
   "execution_count": 5,
   "metadata": {},
   "outputs": [],
   "source": [
    "def rosservice_client():\n",
    "    global front_angle_data, rear_angle_data, initial_time\n",
    "    rospy.wait_for_service('/gazebo/get_link_state')\n",
    "    model = rospy.ServiceProxy('/gazebo/get_link_state',GetLinkState)\n",
    "    obj = model(\"twolinkman::rear_link\",\"base_link\")\n",
    "    x = obj.link_state.pose.orientation.x\n",
    "    y = obj.link_state.pose.orientation.y\n",
    "    z = obj.link_state.pose.orientation.z\n",
    "    w = obj.link_state.pose.orientation.w\n",
    "    (rear_angle, _, _)= euler_from_quaternion([x,y,z,w])\n",
    "    obj = model(\"twolinkman::front_link\",\"rear_link\")\n",
    "    x = obj.link_state.pose.orientation.x\n",
    "    y = obj.link_state.pose.orientation.y\n",
    "    z = obj.link_state.pose.orientation.z\n",
    "    w = obj.link_state.pose.orientation.w\n",
    "    (front_angle, _, _)= euler_from_quaternion([x,y,z,w])\n",
    "    front_angle_data.append([np.rad2deg(front_angle),time.time()-initial_time])\n",
    "    rear_angle_data.append([np.rad2deg(np.arctan2(np.sin(rear_angle+pi),np.cos(rear_angle+pi))),time.time()-initial_time])    #Adjustments to make angular measurements from +ve x axis"
   ]
  },
  {
   "cell_type": "code",
   "execution_count": 6,
   "metadata": {},
   "outputs": [],
   "source": [
    "def controller():\n",
    "    #Update setpoints\n",
    "    global front_setpoint, rear_setpoint, front_joint, rear_joint\n",
    "    if (abs(front_setpoint) <= 170 and rear_setpoint >= -170 and rear_setpoint <= -10):                        #Check limits of angular positions\n",
    "        front_joint.pub.publish(np.deg2rad(front_setpoint))\n",
    "        rear_joint.pub.publish(np.deg2rad(rear_setpoint+90))\n",
    "    else:\n",
    "        print('Out of bounds!') "
   ]
  },
  {
   "cell_type": "code",
   "execution_count": 7,
   "metadata": {},
   "outputs": [],
   "source": [
    "class Joint:\n",
    "    def __init__(self,topic,setpoint):\n",
    "        self.topic = topic\n",
    "        self.pub = setpoint"
   ]
  },
  {
   "cell_type": "code",
   "execution_count": 8,
   "metadata": {},
   "outputs": [],
   "source": [
    "gain = []\n",
    "for i in range(1000):\n",
    "    gain.append([random.uniform(0,100),random.uniform(0,5),random.uniform(0,3),\n",
    "                 random.uniform(0,100),random.uniform(0,5),random.uniform(0,3)])\n",
    "with open('./rawdata.pickle','wb') as f:\n",
    "    try:\n",
    "        pickle.dump(gain,f)\n",
    "    except Exception as e:\n",
    "      print('Unable to process data from', f, ':', e)\n",
    "      raise"
   ]
  },
  {
   "cell_type": "code",
   "execution_count": 9,
   "metadata": {},
   "outputs": [
    {
     "name": "stdout",
     "output_type": "stream",
     "text": [
      "Starting iteration: 0\n",
      "... logging to /home/crm/.ros/log/74650ad2-285e-11e9-8c88-d36719a6929d/roslaunch-crm-Inspiron-3543-10085.log\n",
      "\u001b[1mstarted roslaunch server http://crm-Inspiron-3543:46577/\u001b[0m\n",
      "\n",
      "SUMMARY\n",
      "========\n",
      "\n",
      "PARAMETERS\n",
      " * /rosdistro: melodic\n",
      " * /rosversion: 1.14.3\n",
      " * /twolinkman/front_joint_effort_controller/joint: front_joint\n",
      " * /twolinkman/front_joint_effort_controller/pid/d: 449.9\n",
      " * /twolinkman/front_joint_effort_controller/pid/i: 435.6\n",
      " * /twolinkman/front_joint_effort_controller/pid/p: 421.3\n",
      " * /twolinkman/front_joint_effort_controller/type: effort_controller...\n",
      " * /twolinkman/joint_state_controller/publish_rate: 10\n",
      " * /twolinkman/joint_state_controller/type: joint_state_contr...\n",
      " * /twolinkman/rear_joint_effort_controller/joint: rear_joint\n",
      " * /twolinkman/rear_joint_effort_controller/pid/d: 279.4\n",
      " * /twolinkman/rear_joint_effort_controller/pid/i: 265.1\n",
      " * /twolinkman/rear_joint_effort_controller/pid/p: 78.03\n",
      " * /twolinkman/rear_joint_effort_controller/type: effort_controller...\n",
      "\n",
      "NODES\n",
      "  /twolinkman/\n",
      "    control_spawner (controller_manager/spawner)\n",
      "  /\n",
      "    robot_state_publisher (robot_state_publisher/robot_state_publisher)\n",
      "\n",
      "\u001b[1mROS_MASTER_URI=http://localhost:11311\u001b[0m\n",
      "\u001b[1mprocess[twolinkman/control_spawner-1]: started with pid [10130]\u001b[0m\n",
      "\u001b[1mprocess[robot_state_publisher-2]: started with pid [10131]\u001b[0m\n",
      "[robot_state_publisher-2] killing on exit\n",
      "[twolinkman/control_spawner-1] killing on exit\n",
      "Starting iteration: 1\n",
      "... logging to /home/crm/.ros/log/74650ad2-285e-11e9-8c88-d36719a6929d/roslaunch-crm-Inspiron-3543-10085.log\n",
      "\u001b[1mstarted roslaunch server http://crm-Inspiron-3543:34819/\u001b[0m\n",
      "\n",
      "SUMMARY\n",
      "========\n",
      "\n",
      "PARAMETERS\n",
      " * /rosdistro: melodic\n",
      " * /rosversion: 1.14.3\n",
      " * /twolinkman/front_joint_effort_controller/joint: front_joint\n",
      " * /twolinkman/front_joint_effort_controller/pid/d: 449.9\n",
      " * /twolinkman/front_joint_effort_controller/pid/i: 435.6\n",
      " * /twolinkman/front_joint_effort_controller/pid/p: 421.3\n",
      " * /twolinkman/front_joint_effort_controller/type: effort_controller...\n",
      " * /twolinkman/joint_state_controller/publish_rate: 10\n",
      " * /twolinkman/joint_state_controller/type: joint_state_contr...\n",
      " * /twolinkman/rear_joint_effort_controller/joint: rear_joint\n",
      " * /twolinkman/rear_joint_effort_controller/pid/d: 279.4\n",
      " * /twolinkman/rear_joint_effort_controller/pid/i: 265.1\n",
      " * /twolinkman/rear_joint_effort_controller/pid/p: 9.621\n",
      " * /twolinkman/rear_joint_effort_controller/type: effort_controller...\n",
      "\n",
      "NODES\n",
      "  /twolinkman/\n",
      "    control_spawner (controller_manager/spawner)\n",
      "  /\n",
      "    robot_state_publisher (robot_state_publisher/robot_state_publisher)\n",
      "\n",
      "\u001b[1mROS_MASTER_URI=http://localhost:11311\u001b[0m\n",
      "\u001b[1mprocess[twolinkman/control_spawner-3]: started with pid [10288]\u001b[0m\n",
      "\u001b[1mprocess[robot_state_publisher-4]: started with pid [10289]\u001b[0m\n",
      "[robot_state_publisher-4] killing on exit\n",
      "[twolinkman/control_spawner-3] killing on exit\n",
      "Starting iteration: 2\n",
      "... logging to /home/crm/.ros/log/74650ad2-285e-11e9-8c88-d36719a6929d/roslaunch-crm-Inspiron-3543-10085.log\n"
     ]
    },
    {
     "ename": "RLException",
     "evalue": "pm is not initialized",
     "output_type": "error",
     "traceback": [
      "\u001b[0;31m---------------------------------------------------------------------------\u001b[0m",
      "\u001b[0;31mRLException\u001b[0m                               Traceback (most recent call last)",
      "\u001b[0;32m<ipython-input-9-f193853fe764>\u001b[0m in \u001b[0;36m<module>\u001b[0;34m()\u001b[0m\n\u001b[1;32m     28\u001b[0m             \u001b[0mroslaunch\u001b[0m\u001b[0;34m.\u001b[0m\u001b[0mconfigure_logging\u001b[0m\u001b[0;34m(\u001b[0m\u001b[0mrcon_uuid\u001b[0m\u001b[0;34m)\u001b[0m\u001b[0;34m\u001b[0m\u001b[0m\n\u001b[1;32m     29\u001b[0m             \u001b[0mrcon_launch\u001b[0m \u001b[0;34m=\u001b[0m \u001b[0mroslaunch\u001b[0m\u001b[0;34m.\u001b[0m\u001b[0mparent\u001b[0m\u001b[0;34m.\u001b[0m\u001b[0mROSLaunchParent\u001b[0m\u001b[0;34m(\u001b[0m\u001b[0mrcon_uuid\u001b[0m\u001b[0;34m,\u001b[0m \u001b[0;34m[\u001b[0m\u001b[0mpackage_path\u001b[0m\u001b[0;34m+\u001b[0m\u001b[0mrcon_launch_path\u001b[0m\u001b[0;34m]\u001b[0m\u001b[0;34m)\u001b[0m      \u001b[0;31m#roslaunch the ros+gazebo controller\u001b[0m\u001b[0;34m\u001b[0m\u001b[0m\n\u001b[0;32m---> 30\u001b[0;31m             \u001b[0mrcon_launch\u001b[0m\u001b[0;34m.\u001b[0m\u001b[0mstart\u001b[0m\u001b[0;34m(\u001b[0m\u001b[0;34m)\u001b[0m\u001b[0;34m\u001b[0m\u001b[0m\n\u001b[0m\u001b[1;32m     31\u001b[0m             \u001b[0mtime\u001b[0m\u001b[0;34m.\u001b[0m\u001b[0msleep\u001b[0m\u001b[0;34m(\u001b[0m\u001b[0;36m2\u001b[0m\u001b[0;34m)\u001b[0m\u001b[0;34m\u001b[0m\u001b[0m\n\u001b[1;32m     32\u001b[0m             \u001b[0mr\u001b[0m \u001b[0;34m=\u001b[0m \u001b[0mrospy\u001b[0m\u001b[0;34m.\u001b[0m\u001b[0mRate\u001b[0m\u001b[0;34m(\u001b[0m\u001b[0;36m20\u001b[0m\u001b[0;34m)\u001b[0m                                \u001b[0;31m#10 Hz publishing rate\u001b[0m\u001b[0;34m\u001b[0m\u001b[0m\n",
      "\u001b[0;32m/opt/ros/melodic/lib/python2.7/dist-packages/roslaunch/parent.pyc\u001b[0m in \u001b[0;36mstart\u001b[0;34m(self, auto_terminate)\u001b[0m\n\u001b[1;32m    275\u001b[0m         \u001b[0;31m# load config, start XMLRPC servers and process monitor\u001b[0m\u001b[0;34m\u001b[0m\u001b[0;34m\u001b[0m\u001b[0m\n\u001b[1;32m    276\u001b[0m         \u001b[0;32mtry\u001b[0m\u001b[0;34m:\u001b[0m\u001b[0;34m\u001b[0m\u001b[0m\n\u001b[0;32m--> 277\u001b[0;31m             \u001b[0mself\u001b[0m\u001b[0;34m.\u001b[0m\u001b[0m_start_infrastructure\u001b[0m\u001b[0;34m(\u001b[0m\u001b[0;34m)\u001b[0m\u001b[0;34m\u001b[0m\u001b[0m\n\u001b[0m\u001b[1;32m    278\u001b[0m         \u001b[0;32mexcept\u001b[0m\u001b[0;34m:\u001b[0m\u001b[0;34m\u001b[0m\u001b[0m\n\u001b[1;32m    279\u001b[0m             \u001b[0;31m# infrastructure did not initialize, do teardown on whatever did come up\u001b[0m\u001b[0;34m\u001b[0m\u001b[0;34m\u001b[0m\u001b[0m\n",
      "\u001b[0;32m/opt/ros/melodic/lib/python2.7/dist-packages/roslaunch/parent.pyc\u001b[0m in \u001b[0;36m_start_infrastructure\u001b[0;34m(self)\u001b[0m\n\u001b[1;32m    233\u001b[0m         \u001b[0;31m# Requires pm\u001b[0m\u001b[0;34m\u001b[0m\u001b[0;34m\u001b[0m\u001b[0m\n\u001b[1;32m    234\u001b[0m         \u001b[0;32mif\u001b[0m \u001b[0mself\u001b[0m\u001b[0;34m.\u001b[0m\u001b[0mserver\u001b[0m \u001b[0;32mis\u001b[0m \u001b[0mNone\u001b[0m\u001b[0;34m:\u001b[0m\u001b[0;34m\u001b[0m\u001b[0m\n\u001b[0;32m--> 235\u001b[0;31m             \u001b[0mself\u001b[0m\u001b[0;34m.\u001b[0m\u001b[0m_start_server\u001b[0m\u001b[0;34m(\u001b[0m\u001b[0;34m)\u001b[0m\u001b[0;34m\u001b[0m\u001b[0m\n\u001b[0m\u001b[1;32m    236\u001b[0m \u001b[0;34m\u001b[0m\u001b[0m\n\u001b[1;32m    237\u001b[0m         \u001b[0;31m# Startup the remote infrastructure.\u001b[0m\u001b[0;34m\u001b[0m\u001b[0;34m\u001b[0m\u001b[0m\n",
      "\u001b[0;32m/opt/ros/melodic/lib/python2.7/dist-packages/roslaunch/parent.pyc\u001b[0m in \u001b[0;36m_start_server\u001b[0;34m(self)\u001b[0m\n\u001b[1;32m    180\u001b[0m             \u001b[0;32mraise\u001b[0m \u001b[0mRLException\u001b[0m\u001b[0;34m(\u001b[0m\u001b[0;34m\"config is not initialized\"\u001b[0m\u001b[0;34m)\u001b[0m\u001b[0;34m\u001b[0m\u001b[0m\n\u001b[1;32m    181\u001b[0m         \u001b[0;32mif\u001b[0m \u001b[0mself\u001b[0m\u001b[0;34m.\u001b[0m\u001b[0mpm\u001b[0m \u001b[0;32mis\u001b[0m \u001b[0mNone\u001b[0m\u001b[0;34m:\u001b[0m\u001b[0;34m\u001b[0m\u001b[0m\n\u001b[0;32m--> 182\u001b[0;31m             \u001b[0;32mraise\u001b[0m \u001b[0mRLException\u001b[0m\u001b[0;34m(\u001b[0m\u001b[0;34m\"pm is not initialized\"\u001b[0m\u001b[0;34m)\u001b[0m\u001b[0;34m\u001b[0m\u001b[0m\n\u001b[0m\u001b[1;32m    183\u001b[0m \u001b[0;34m\u001b[0m\u001b[0m\n\u001b[1;32m    184\u001b[0m         \u001b[0mself\u001b[0m\u001b[0;34m.\u001b[0m\u001b[0mlogger\u001b[0m\u001b[0;34m.\u001b[0m\u001b[0minfo\u001b[0m\u001b[0;34m(\u001b[0m\u001b[0;34m\"starting parent XML-RPC server\"\u001b[0m\u001b[0;34m)\u001b[0m\u001b[0;34m\u001b[0m\u001b[0m\n",
      "\u001b[0;31mRLException\u001b[0m: pm is not initialized"
     ]
    },
    {
     "data": {
      "image/png": "[encoded data removed]",
      "text/plain": [
       "<Figure size 432x288 with 1 Axes>"
      ]
     },
     "metadata": {
      "needs_background": "light"
     },
     "output_type": "display_data"
    },
    {
     "data": {
      "image/png": "[encoded data removed]",
      "text/plain": [
       "<Figure size 432x288 with 1 Axes>"
      ]
     },
     "metadata": {
      "needs_background": "light"
     },
     "output_type": "display_data"
    },
    {
     "data": {
      "image/png": "[encoded data removed]",
      "text/plain": [
       "<Figure size 432x288 with 1 Axes>"
      ]
     },
     "metadata": {
      "needs_background": "light"
     },
     "output_type": "display_data"
    }
   ],
   "source": [
    "if __name__ == '__main__':\n",
    "    try:\n",
    "        ip_file = file('input_rawdata.txt','w')\n",
    "        op_file = file('output_rawdata.txt','w')\n",
    "        outter_layer = []\n",
    "        #Joint instances\n",
    "        front_joint = Joint(f_topic,None)\n",
    "        rear_joint = Joint(r_topic,None)\n",
    "        #new rosnode to publish effort messages from script to ros+gazebo control and latch messages\n",
    "        #from listeners\n",
    "        setpointnode = rospy.init_node('SetPoint',anonymous=True)\n",
    "        front_joint.pub = rospy.topics.Publisher(front_joint.topic,Float64,queue_size=10)\n",
    "        rear_joint.pub = rospy.topics.Publisher(rear_joint.topic,Float64,queue_size=10)\n",
    "        for i in range(len(gain)):\n",
    "            front_joint.pub.publish(0)\n",
    "            rear_joint.pub.publish(0)\n",
    "            ip_file.write(str(gain[i]))\n",
    "            if(updateYAML(gain[i])==-1):\n",
    "                print(\"Inapproriate gain value\")\n",
    "                continue\n",
    "            front_angle_data = []\n",
    "            rear_angle_data = []\n",
    "            rospy.wait_for_service('/gazebo/reset_simulation')\n",
    "            reset_simulation = rospy.ServiceProxy('/gazebo/reset_simulation', Empty)\n",
    "            reset_simulation()\n",
    "            print(\"Starting iteration: \"+str(i)+\" Gains are: \"+str(gain[i]))\n",
    "            #ROS Control Launch file\n",
    "            rcon_uuid = roslaunch.rlutil.get_or_generate_uuid(None, False)\n",
    "            #roslaunch.configure_logging(rcon_uuid)\n",
    "            rcon_launch = roslaunch.parent.ROSLaunchParent(rcon_uuid, [package_path+rcon_launch_path])      #roslaunch the ros+gazebo controller\n",
    "            rcon_launch.start()\n",
    "            time.sleep(2)\n",
    "            r = rospy.Rate(20)                                #10 Hz publishing rate\n",
    "            initial_time = time.time()\n",
    "            #PID loop\n",
    "            while not rospy.is_shutdown():\n",
    "                controller()\n",
    "                r.sleep()\n",
    "                rosservice_client()\n",
    "                r.sleep()\n",
    "                if(len(front_angle_data)>=30):\n",
    "                    break\n",
    "            reset_simulation()\n",
    "            rcon_launch.shutdown()\n",
    "            tau = 0.2\n",
    "\n",
    "            front_time_axis = map(itemgetter(1),front_angle_data)\n",
    "            front_y_axis = map(itemgetter(0),front_angle_data)\n",
    "            rear_time_axis = map(itemgetter(1),rear_angle_data)\n",
    "            rear_y_axis = map(itemgetter(0),rear_angle_data)\n",
    "\n",
    "            front_angle_sp = ref_signal(tau,0,front_setpoint,front_time_axis) \n",
    "            rear_angle_sp = ref_signal(tau,-90,rear_setpoint,rear_time_axis)\n",
    "            front_correlation = np.correlate(front_angle_sp,front_y_axis,'full')\n",
    "            front_correlation_sp = np.correlate(front_angle_sp,front_angle_sp,'full')\n",
    "            rear_correlation = np.correlate(rear_angle_sp,rear_y_axis,'full')\n",
    "            rear_correlation_sp = np.correlate(rear_angle_sp,rear_angle_sp,'full')\n",
    "            outter_layer.append([front_correlation,rear_correlation,front_correlation_sp,rear_correlation_sp])\n",
    "\n",
    "            #plt.figure(0)\n",
    "            #plt.title('Correlation')\n",
    "            #plt.plot([i for i in range(len(front_correlation))],front_correlation,'r',\n",
    "            #         [i for i in range(len(rear_correlation))],rear_correlation,'g')\n",
    "            #plt.figure(1)\n",
    "            #plt.title('Front Process Variable')\n",
    "            #plt.plot(front_time_axis,front_angle_sp,'r',front_time_axis,front_y_axis,'r+')\n",
    "            #plt.figure(2)\n",
    "            #plt.title('Rear Process Variable')\n",
    "            #plt.plot(rear_time_axis,rear_angle_sp,'g',rear_time_axis,rear_y_axis,'g+')\n",
    "        with open('./rawcorrelation.pickle','wb') as f:\n",
    "            try:\n",
    "                pickle.dump(outter_layer,f)\n",
    "            except Exception as e:\n",
    "              print('Unable to process data from', f, ':', e)\n",
    "              raise\n",
    "            \n",
    "    except (KeyboardInterrupt,SystemExit):\n",
    "        reset_simulation()\n",
    "        rcon_launch.shutdown()\n",
    "        exit_ = True\n",
    "        raise Exception('Closing program...')"
   ]
  },
  {
   "cell_type": "code",
   "execution_count": 22,
   "metadata": {},
   "outputs": [
    {
     "ename": "IndexError",
     "evalue": "list index out of range",
     "output_type": "error",
     "traceback": [
      "\u001b[0;31m---------------------------------------------------------------------------\u001b[0m",
      "\u001b[0;31mIndexError\u001b[0m                                Traceback (most recent call last)",
      "\u001b[0;32m<ipython-input-22-9d5f15142265>\u001b[0m in \u001b[0;36m<module>\u001b[0;34m()\u001b[0m\n\u001b[1;32m      6\u001b[0m       \u001b[0;32mprint\u001b[0m\u001b[0;34m(\u001b[0m\u001b[0;34m'Unable to process data from'\u001b[0m\u001b[0;34m,\u001b[0m \u001b[0mf\u001b[0m\u001b[0;34m,\u001b[0m \u001b[0;34m':'\u001b[0m\u001b[0;34m,\u001b[0m \u001b[0me\u001b[0m\u001b[0;34m)\u001b[0m\u001b[0;34m\u001b[0m\u001b[0m\n\u001b[1;32m      7\u001b[0m       \u001b[0;32mraise\u001b[0m\u001b[0;34m\u001b[0m\u001b[0m\n\u001b[0;32m----> 8\u001b[0;31m \u001b[0;32mprint\u001b[0m\u001b[0;34m(\u001b[0m\u001b[0moutter_layer\u001b[0m\u001b[0;34m[\u001b[0m\u001b[0;36m2\u001b[0m\u001b[0;34m]\u001b[0m\u001b[0;34m[\u001b[0m\u001b[0;36m3\u001b[0m\u001b[0;34m]\u001b[0m\u001b[0;34m)\u001b[0m\u001b[0;34m\u001b[0m\u001b[0m\n\u001b[0m",
      "\u001b[0;31mIndexError\u001b[0m: list index out of range"
     ]
    }
   ],
   "source": [
    "import pickle\n",
    "with open('./rawdata.pickle','rb') as f:\n",
    "    try:\n",
    "        outter_layer = pickle.load(f)\n",
    "    except Exception as e:\n",
    "      print('Unable to process data from', f, ':', e)\n",
    "      raise\n",
    "print(outter_layer[2][3])"
   ]
  },
  {
   "cell_type": "code",
   "execution_count": null,
   "metadata": {},
   "outputs": [],
   "source": []
  }
 ],
 "metadata": {
  "kernelspec": {
   "display_name": "Python 2",
   "language": "python",
   "name": "python2"
  },
  "language_info": {
   "codemirror_mode": {
    "name": "ipython",
    "version": 2
   },
   "file_extension": ".py",
   "mimetype": "text/x-python",
   "name": "python",
   "nbconvert_exporter": "python",
   "pygments_lexer": "ipython2",
   "version": "2.7.15"
  }
 },
 "nbformat": 4,
 "nbformat_minor": 2
}
